{
  "nbformat": 4,
  "nbformat_minor": 0,
  "metadata": {
    "colab": {
      "provenance": []
    },
    "kernelspec": {
      "name": "python3",
      "display_name": "Python 3"
    },
    "language_info": {
      "name": "python"
    }
  },
  "cells": [
    {
      "cell_type": "markdown",
      "source": [
        "## Import"
      ],
      "metadata": {
        "id": "fQO869-i9s-b"
      }
    },
    {
      "cell_type": "code",
      "source": [
        "import random\n",
        "import numpy as np\n",
        "import pandas as pd\n",
        "from collections import deque\n",
        "import matplotlib.pyplot as plt\n",
        "\n",
        "import torch\n",
        "import torch.nn as nn\n",
        "import torch.nn.functional as F\n",
        "import torch.optim as optim"
      ],
      "metadata": {
        "id": "HzSHLTxZ9sZo"
      },
      "execution_count": null,
      "outputs": []
    },
    {
      "cell_type": "markdown",
      "source": [
        "## LevEnv"
      ],
      "metadata": {
        "id": "M3fhOU-n904l"
      }
    },
    {
      "cell_type": "code",
      "execution_count": null,
      "metadata": {
        "id": "AKyu_T-S9qXI"
      },
      "outputs": [],
      "source": [
        "class LevEnv:\n",
        "    def __init__(self):\n",
        "\n",
        "        self.state = [0.0, 0.0, 0.0]\n",
        "        self.num_state = len(self.state)\n",
        "\n",
        "        self.action_space = ['left', 'middle', 'right']\n",
        "        self.num_action = len(self.action_space)\n",
        "\n",
        "        self.reward = {'left': -1, 'middle': 0, 'right': 1}\n",
        "\n",
        "    def reset(self):\n",
        "\n",
        "        self.state = [0.0, 0.0, 0.0]\n",
        "        return self.state\n",
        "\n",
        "    def step(self, action_idx):\n",
        "\n",
        "        action = self.action_space[action_idx]\n",
        "        self.state[action_idx] = 1.0\n",
        "        state = self.state\n",
        "\n",
        "        reward = 0\n",
        "        reward = self.reward[action]\n",
        "\n",
        "        done = True\n",
        "\n",
        "        return state, reward, done\n",
        "\n",
        "    def render(self, state):\n",
        "\n",
        "        rendering = [value for value in state]\n",
        "        print(rendering)"
      ]
    },
    {
      "cell_type": "markdown",
      "source": [
        "## Neural Network"
      ],
      "metadata": {
        "id": "PX9Tr6qh-vpm"
      }
    },
    {
      "cell_type": "code",
      "source": [
        "# 입력: state, 출력: 각 행동의 q함수\n",
        "\n",
        "class NN(nn.Module):\n",
        "\n",
        "    def __init__(self, state_size, action_size):\n",
        "        super(NN, self).__init__()\n",
        "        self.state_size = state_size\n",
        "        self.action_size = action_size\n",
        "\n",
        "        self.fc1 = nn.Linear(self.state_size, 30)\n",
        "        self.fc2 = nn.Linear(30, 30)\n",
        "        self.fc3 = nn.Linear(30, self.action_size)\n",
        "\n",
        "    def forward(self, x):\n",
        "\n",
        "        x = F.relu(self.fc1(x))\n",
        "        x = F.relu(self.fc2(x))\n",
        "        x = self.fc3(x)\n",
        "\n",
        "        return x"
      ],
      "metadata": {
        "id": "XZ_JIHqg-x00"
      },
      "execution_count": null,
      "outputs": []
    },
    {
      "cell_type": "markdown",
      "source": [
        "## MonkeyAgent"
      ],
      "metadata": {
        "id": "wr8fPtHR_Vs5"
      }
    },
    {
      "cell_type": "markdown",
      "source": [
        "> 초기화\n",
        "\n",
        "\n",
        "*   state_size, action_size\n",
        "*   lr, loss, batch_size, memory_size, discount_factor, epsilon, memory\n",
        "*   인공신경망, 타깃신경망, optimizer\n",
        "*  타깃 신경망 초기화\n",
        "\n",
        "> 메서드\n",
        "\n",
        "\n",
        "*   타깃신경망 초기화\n",
        "*   get_action(입실론-탐욕 정책)\n",
        "*   리플레이 메모리에 append_sample\n",
        "*   train_model\n",
        "\n",
        "\n",
        "\n"
      ],
      "metadata": {
        "id": "I_pfFsV2E5c3"
      }
    },
    {
      "cell_type": "code",
      "source": [
        "class DQNAgent:\n",
        "\n",
        "    def __init__(self, state_size, action_size):\n",
        "\n",
        "        self.state_size = state_size\n",
        "        self.action_size = action_size\n",
        "\n",
        "        self.learning_rate = 0.001\n",
        "        self.loss = nn.MSELoss()\n",
        "        self.batch_size = 16\n",
        "        self.memory_size = 1000\n",
        "        self.memory_size_min = 100\n",
        "        self.discount_factor = 0.1\n",
        "        self.epsilon = 0.9\n",
        "        self.epsilon_decay = 0.999\n",
        "        self.epsilon_min = 0.01\n",
        "        self.memory = deque(maxlen = self.memory_size)\n",
        "\n",
        "        # 인공신경망 model, 타깃신경망 target_model\n",
        "        self.model = NN(self.state_size, self.action_size)\n",
        "        self.target_model = NN(self.state_size, self.action_size)\n",
        "        self.optimizer = optim.Adam(self.model.parameters(), lr = self.learning_rate)\n",
        "\n",
        "        # 타깃신경망 초기화\n",
        "        self.update_target_model()\n",
        "\n",
        "    def update_target_model(self):\n",
        "        # model과 target_model의 weights를 같게 함\n",
        "        self.target_model.load_state_dict(self.model.state_dict())\n",
        "\n",
        "    def get_action(self, state):\n",
        "        # NN에 들어가는 모든 변수는 tensor임\n",
        "        if np.random.rand() <= self.epsilon:\n",
        "            return random.randrange(self.action_size)\n",
        "        else:\n",
        "            state = torch.tensor(state)\n",
        "            q_value = self.model(state) # [[0, 1, 2]] 이런 꼴로 반환\n",
        "            action_idx = q_value.max(0)[1].item() # 행에서 (max, idx)중 idx 추출\n",
        "\n",
        "            return action_idx\n",
        "\n",
        "    def append_sample(self, state, action, reward, next_state, done):\n",
        "        # tuple 형태로 반환해서 리플레이 메모리에 샘플 저장\n",
        "        self.memory.append((state, action, reward, next_state, done))\n",
        "\n",
        "    def train_model(self):\n",
        "\n",
        "        # 탐험율을 점점 낮춤\n",
        "        if self.epsilon >= self.epsilon_min:\n",
        "            self.epsilon *= self.epsilon_decay\n",
        "\n",
        "        mini_batch = random.sample(self.memory, self.batch_size)\n",
        "\n",
        "        states = torch.tensor([sample[0][i] for sample in mini_batch for i in range(self.state_size)]).reshape(self.batch_size, self.action_size)\n",
        "        actions = torch.tensor([sample[1] for sample in mini_batch])\n",
        "        rewards = torch.tensor([sample[2] for sample in mini_batch])\n",
        "        next_states = torch.tensor([sample[3][i] for sample in mini_batch for i in range(self.state_size)]).reshape(self.batch_size, self.action_size)\n",
        "        dones = torch.tensor([sample[4] for sample in mini_batch])\n",
        "\n",
        "        dones = dones.int()\n",
        "\n",
        "        # states를 통해 예측한 q함수\n",
        "        pred = self.model(states) # (16, 3) = (self.batch_size, self.action_size)\n",
        "        pred_one_hot = F.one_hot(actions, self.action_size)\n",
        "        pred_one_hot = torch.sum(pred * pred_one_hot, dim = 1)\n",
        "\n",
        "        # next_states를 통해 계산한 최대 q함수\n",
        "        # max(1)에서 1은 tensor의 행을 나타냄. 따라서 max(1)은 행의 (최대값, idx)을 반환.\n",
        "        # idx가 아니라 최대값을 뽑기 위해 [0] 사용\n",
        "        # detach()로 target_pred는 더 이상 그래디언트가 계산되지 않음 -> 파라미터가 업데이트되지 않음\n",
        "        target_pred = self.target_model(next_states).max(1)[0].detach()\n",
        "\n",
        "        # 벨만 최적 방정식\n",
        "        # 정답\n",
        "        targets = rewards + (1 - dones) * self.discount_factor * target_pred\n",
        "        loss = self.loss(pred_one_hot, target_pred)\n",
        "        # loss = self.loss(pred.gather(1, actions.squeeze(1)), targets.unsqueeze(1))\n",
        "\n",
        "        # 가중치 업데이트\n",
        "        self.optimizer.zero_grad()\n",
        "        loss.backward()\n",
        "        self.optimizer.step()\n"
      ],
      "metadata": {
        "id": "cmZPXjSP_XjI"
      },
      "execution_count": null,
      "outputs": []
    },
    {
      "cell_type": "markdown",
      "source": [
        "## main"
      ],
      "metadata": {
        "id": "lix8dcgDFrEl"
      }
    },
    {
      "cell_type": "code",
      "source": [
        "env = LevEnv()\n",
        "monkey = DQNAgent(env.num_state, env.num_action)\n",
        "\n",
        "scores, episodes, scores_avg = [], [], []\n",
        "cnt = 0\n",
        "RENDER_PROCESS = False\n",
        "RENDER_END = False\n",
        "\n",
        "EPISODES = 10000\n",
        "\n",
        "for epi in range(EPISODES + 1):\n",
        "    done = False\n",
        "    score = 0\n",
        "\n",
        "    # 환경 초기화\n",
        "    state = env.reset()\n",
        "\n",
        "    while not done:\n",
        "        # 현재 상태에서 행동 선택\n",
        "        action = monkey.get_action(state)\n",
        "\n",
        "        # 선택한 행동으로 step\n",
        "        next_state, reward, done = env.step(action)\n",
        "        score += reward\n",
        "\n",
        "        # 리플레이 메모리에 (s, a, r, s') 저장\n",
        "        monkey.append_sample(state, action, reward, next_state, done)\n",
        "\n",
        "        if RENDER_PROCESS:\n",
        "            env.render()\n",
        "\n",
        "        # 메모리 사이즈가 min 이상이면 훈련\n",
        "        if len(monkey.memory) > monkey.memory_size_min:\n",
        "            monkey.train_model()\n",
        "        # 훈련이 끝나면 현재 상태가 다음 상태가 됨\n",
        "        state = next_state\n",
        "\n",
        "        if done:\n",
        "\n",
        "            episodes.append(epi)\n",
        "            scores.append(score)\n",
        "            scores_avg.append(np.mean(scores))\n",
        "\n",
        "            if action == 2:\n",
        "                cnt += 1\n",
        "\n",
        "            if (epi % 50 == 0):\n",
        "                print(f\"episode: {epi} | lever right:{cnt} | score: {np.mean(scores):.3f}\")\n",
        "\n",
        "            # monkey.update_target_model()\n"
      ],
      "metadata": {
        "colab": {
          "base_uri": "https://localhost:8080/"
        },
        "id": "S2RgmokhFs5o",
        "outputId": "ba780dcc-49f3-44c0-fdcc-8967d135acb7"
      },
      "execution_count": null,
      "outputs": [
        {
          "output_type": "stream",
          "name": "stdout",
          "text": [
            "episode: 0 | lever right:1 | score: 1.000\n",
            "episode: 50 | lever right:23 | score: 0.157\n",
            "episode: 100 | lever right:41 | score: 0.079\n",
            "episode: 150 | lever right:65 | score: 0.152\n",
            "episode: 200 | lever right:90 | score: 0.189\n",
            "episode: 250 | lever right:113 | score: 0.175\n",
            "episode: 300 | lever right:140 | score: 0.209\n",
            "episode: 350 | lever right:163 | score: 0.208\n",
            "episode: 400 | lever right:196 | score: 0.244\n",
            "episode: 450 | lever right:223 | score: 0.253\n",
            "episode: 500 | lever right:254 | score: 0.261\n",
            "episode: 550 | lever right:278 | score: 0.258\n",
            "episode: 600 | lever right:308 | score: 0.270\n",
            "episode: 650 | lever right:340 | score: 0.284\n",
            "episode: 700 | lever right:372 | score: 0.294\n",
            "episode: 750 | lever right:407 | score: 0.313\n",
            "episode: 800 | lever right:441 | score: 0.328\n",
            "episode: 850 | lever right:479 | score: 0.344\n",
            "episode: 900 | lever right:515 | score: 0.355\n",
            "episode: 950 | lever right:552 | score: 0.367\n",
            "episode: 1000 | lever right:594 | score: 0.384\n",
            "episode: 1050 | lever right:633 | score: 0.399\n",
            "episode: 1100 | lever right:669 | score: 0.411\n",
            "episode: 1150 | lever right:705 | score: 0.415\n",
            "episode: 1200 | lever right:746 | score: 0.428\n",
            "episode: 1250 | lever right:785 | score: 0.438\n",
            "episode: 1300 | lever right:828 | score: 0.450\n",
            "episode: 1350 | lever right:866 | score: 0.455\n",
            "episode: 1400 | lever right:904 | score: 0.461\n",
            "episode: 1450 | lever right:944 | score: 0.467\n",
            "episode: 1500 | lever right:986 | score: 0.478\n",
            "episode: 1550 | lever right:1034 | score: 0.493\n",
            "episode: 1600 | lever right:1079 | score: 0.505\n",
            "episode: 1650 | lever right:1122 | score: 0.514\n",
            "episode: 1700 | lever right:1166 | score: 0.523\n",
            "episode: 1750 | lever right:1211 | score: 0.532\n",
            "episode: 1800 | lever right:1258 | score: 0.542\n",
            "episode: 1850 | lever right:1303 | score: 0.550\n",
            "episode: 1900 | lever right:1347 | score: 0.557\n",
            "episode: 1950 | lever right:1390 | score: 0.564\n",
            "episode: 2000 | lever right:1434 | score: 0.570\n",
            "episode: 2050 | lever right:1483 | score: 0.580\n",
            "episode: 2100 | lever right:1527 | score: 0.584\n",
            "episode: 2150 | lever right:1573 | score: 0.591\n",
            "episode: 2200 | lever right:1617 | score: 0.596\n",
            "episode: 2250 | lever right:1663 | score: 0.602\n",
            "episode: 2300 | lever right:1710 | score: 0.609\n",
            "episode: 2350 | lever right:1758 | score: 0.617\n",
            "episode: 2400 | lever right:1805 | score: 0.623\n",
            "episode: 2450 | lever right:1853 | score: 0.630\n",
            "episode: 2500 | lever right:1901 | score: 0.636\n",
            "episode: 2550 | lever right:1950 | score: 0.642\n",
            "episode: 2600 | lever right:1998 | score: 0.648\n",
            "episode: 2650 | lever right:2047 | score: 0.654\n",
            "episode: 2700 | lever right:2094 | score: 0.659\n",
            "episode: 2750 | lever right:2143 | score: 0.665\n",
            "episode: 2800 | lever right:2187 | score: 0.668\n",
            "episode: 2850 | lever right:2234 | score: 0.672\n",
            "episode: 2900 | lever right:2283 | score: 0.677\n",
            "episode: 2950 | lever right:2332 | score: 0.682\n",
            "episode: 3000 | lever right:2380 | score: 0.686\n",
            "episode: 3050 | lever right:2430 | score: 0.691\n",
            "episode: 3100 | lever right:2476 | score: 0.694\n",
            "episode: 3150 | lever right:2525 | score: 0.699\n",
            "episode: 3200 | lever right:2574 | score: 0.703\n",
            "episode: 3250 | lever right:2623 | score: 0.707\n",
            "episode: 3300 | lever right:2672 | score: 0.711\n",
            "episode: 3350 | lever right:2722 | score: 0.715\n",
            "episode: 3400 | lever right:2770 | score: 0.719\n",
            "episode: 3450 | lever right:2817 | score: 0.722\n",
            "episode: 3500 | lever right:2867 | score: 0.726\n",
            "episode: 3550 | lever right:2917 | score: 0.730\n",
            "episode: 3600 | lever right:2967 | score: 0.733\n",
            "episode: 3650 | lever right:3016 | score: 0.737\n",
            "episode: 3700 | lever right:3064 | score: 0.739\n",
            "episode: 3750 | lever right:3114 | score: 0.743\n",
            "episode: 3800 | lever right:3163 | score: 0.746\n",
            "episode: 3850 | lever right:3212 | score: 0.749\n",
            "episode: 3900 | lever right:3262 | score: 0.752\n",
            "episode: 3950 | lever right:3312 | score: 0.755\n",
            "episode: 4000 | lever right:3362 | score: 0.758\n",
            "episode: 4050 | lever right:3412 | score: 0.761\n",
            "episode: 4100 | lever right:3462 | score: 0.764\n",
            "episode: 4150 | lever right:3512 | score: 0.767\n",
            "episode: 4200 | lever right:3560 | score: 0.769\n",
            "episode: 4250 | lever right:3609 | score: 0.771\n",
            "episode: 4300 | lever right:3659 | score: 0.774\n",
            "episode: 4350 | lever right:3708 | score: 0.776\n",
            "episode: 4400 | lever right:3758 | score: 0.778\n",
            "episode: 4450 | lever right:3808 | score: 0.781\n",
            "episode: 4500 | lever right:3858 | score: 0.783\n",
            "episode: 4550 | lever right:3908 | score: 0.786\n",
            "episode: 4600 | lever right:3958 | score: 0.788\n",
            "episode: 4650 | lever right:4008 | score: 0.790\n",
            "episode: 4700 | lever right:4057 | score: 0.792\n",
            "episode: 4750 | lever right:4107 | score: 0.795\n",
            "episode: 4800 | lever right:4157 | score: 0.797\n",
            "episode: 4850 | lever right:4207 | score: 0.799\n",
            "episode: 4900 | lever right:4257 | score: 0.801\n",
            "episode: 4950 | lever right:4307 | score: 0.803\n",
            "episode: 5000 | lever right:4357 | score: 0.805\n",
            "episode: 5050 | lever right:4407 | score: 0.807\n",
            "episode: 5100 | lever right:4455 | score: 0.808\n",
            "episode: 5150 | lever right:4505 | score: 0.810\n",
            "episode: 5200 | lever right:4555 | score: 0.812\n",
            "episode: 5250 | lever right:4605 | score: 0.814\n",
            "episode: 5300 | lever right:4654 | score: 0.815\n",
            "episode: 5350 | lever right:4704 | score: 0.817\n",
            "episode: 5400 | lever right:4754 | score: 0.819\n",
            "episode: 5450 | lever right:4804 | score: 0.820\n",
            "episode: 5500 | lever right:4854 | score: 0.822\n",
            "episode: 5550 | lever right:4904 | score: 0.823\n",
            "episode: 5600 | lever right:4954 | score: 0.825\n",
            "episode: 5650 | lever right:5004 | score: 0.827\n",
            "episode: 5700 | lever right:5053 | score: 0.828\n",
            "episode: 5750 | lever right:5103 | score: 0.829\n",
            "episode: 5800 | lever right:5153 | score: 0.831\n",
            "episode: 5850 | lever right:5203 | score: 0.832\n",
            "episode: 5900 | lever right:5252 | score: 0.833\n",
            "episode: 5950 | lever right:5301 | score: 0.835\n",
            "episode: 6000 | lever right:5351 | score: 0.836\n",
            "episode: 6050 | lever right:5401 | score: 0.837\n",
            "episode: 6100 | lever right:5451 | score: 0.839\n",
            "episode: 6150 | lever right:5501 | score: 0.840\n",
            "episode: 6200 | lever right:5551 | score: 0.841\n",
            "episode: 6250 | lever right:5600 | score: 0.842\n",
            "episode: 6300 | lever right:5648 | score: 0.843\n",
            "episode: 6350 | lever right:5698 | score: 0.844\n",
            "episode: 6400 | lever right:5748 | score: 0.846\n",
            "episode: 6450 | lever right:5798 | score: 0.847\n",
            "episode: 6500 | lever right:5847 | score: 0.848\n",
            "episode: 6550 | lever right:5896 | score: 0.849\n",
            "episode: 6600 | lever right:5946 | score: 0.850\n",
            "episode: 6650 | lever right:5996 | score: 0.851\n",
            "episode: 6700 | lever right:6046 | score: 0.852\n",
            "episode: 6750 | lever right:6096 | score: 0.853\n",
            "episode: 6800 | lever right:6146 | score: 0.854\n",
            "episode: 6850 | lever right:6196 | score: 0.855\n",
            "episode: 6900 | lever right:6245 | score: 0.856\n",
            "episode: 6950 | lever right:6295 | score: 0.857\n",
            "episode: 7000 | lever right:6344 | score: 0.858\n",
            "episode: 7050 | lever right:6394 | score: 0.859\n",
            "episode: 7100 | lever right:6444 | score: 0.860\n",
            "episode: 7150 | lever right:6493 | score: 0.861\n",
            "episode: 7200 | lever right:6543 | score: 0.862\n",
            "episode: 7250 | lever right:6593 | score: 0.863\n",
            "episode: 7300 | lever right:6642 | score: 0.863\n",
            "episode: 7350 | lever right:6691 | score: 0.864\n",
            "episode: 7400 | lever right:6741 | score: 0.865\n",
            "episode: 7450 | lever right:6790 | score: 0.866\n",
            "episode: 7500 | lever right:6839 | score: 0.866\n",
            "episode: 7550 | lever right:6889 | score: 0.867\n",
            "episode: 7600 | lever right:6939 | score: 0.868\n",
            "episode: 7650 | lever right:6989 | score: 0.869\n",
            "episode: 7700 | lever right:7039 | score: 0.870\n",
            "episode: 7750 | lever right:7089 | score: 0.871\n",
            "episode: 7800 | lever right:7136 | score: 0.871\n",
            "episode: 7850 | lever right:7185 | score: 0.871\n",
            "episode: 7900 | lever right:7234 | score: 0.872\n",
            "episode: 7950 | lever right:7283 | score: 0.873\n",
            "episode: 8000 | lever right:7332 | score: 0.873\n",
            "episode: 8050 | lever right:7379 | score: 0.873\n",
            "episode: 8100 | lever right:7428 | score: 0.874\n",
            "episode: 8150 | lever right:7477 | score: 0.875\n",
            "episode: 8200 | lever right:7527 | score: 0.876\n",
            "episode: 8250 | lever right:7577 | score: 0.876\n",
            "episode: 8300 | lever right:7626 | score: 0.877\n",
            "episode: 8350 | lever right:7676 | score: 0.877\n",
            "episode: 8400 | lever right:7726 | score: 0.878\n",
            "episode: 8450 | lever right:7775 | score: 0.879\n",
            "episode: 8500 | lever right:7825 | score: 0.879\n",
            "episode: 8550 | lever right:7875 | score: 0.880\n",
            "episode: 8600 | lever right:7924 | score: 0.881\n",
            "episode: 8650 | lever right:7973 | score: 0.881\n",
            "episode: 8700 | lever right:8023 | score: 0.882\n",
            "episode: 8750 | lever right:8073 | score: 0.883\n",
            "episode: 8800 | lever right:8123 | score: 0.883\n",
            "episode: 8850 | lever right:8173 | score: 0.884\n",
            "episode: 8900 | lever right:8222 | score: 0.884\n",
            "episode: 8950 | lever right:8270 | score: 0.885\n",
            "episode: 9000 | lever right:8320 | score: 0.885\n",
            "episode: 9050 | lever right:8368 | score: 0.886\n",
            "episode: 9100 | lever right:8417 | score: 0.886\n",
            "episode: 9150 | lever right:8467 | score: 0.887\n",
            "episode: 9200 | lever right:8516 | score: 0.887\n",
            "episode: 9250 | lever right:8566 | score: 0.888\n",
            "episode: 9300 | lever right:8615 | score: 0.888\n",
            "episode: 9350 | lever right:8665 | score: 0.889\n",
            "episode: 9400 | lever right:8715 | score: 0.889\n",
            "episode: 9450 | lever right:8765 | score: 0.890\n",
            "episode: 9500 | lever right:8815 | score: 0.890\n",
            "episode: 9550 | lever right:8865 | score: 0.891\n",
            "episode: 9600 | lever right:8915 | score: 0.892\n",
            "episode: 9650 | lever right:8965 | score: 0.892\n",
            "episode: 9700 | lever right:9015 | score: 0.893\n",
            "episode: 9750 | lever right:9065 | score: 0.893\n",
            "episode: 9800 | lever right:9115 | score: 0.894\n",
            "episode: 9850 | lever right:9164 | score: 0.894\n",
            "episode: 9900 | lever right:9214 | score: 0.895\n",
            "episode: 9950 | lever right:9264 | score: 0.895\n",
            "episode: 10000 | lever right:9314 | score: 0.896\n"
          ]
        }
      ]
    },
    {
      "cell_type": "code",
      "source": [
        "# 마지막 state만 render\n",
        "env.render(state)"
      ],
      "metadata": {
        "colab": {
          "base_uri": "https://localhost:8080/"
        },
        "id": "J_9PIZx3WWgU",
        "outputId": "2eadc71a-f496-4646-804d-cf4a1cb54f34"
      },
      "execution_count": null,
      "outputs": [
        {
          "output_type": "stream",
          "name": "stdout",
          "text": [
            "[0.0, 0.0, 1.0]\n"
          ]
        }
      ]
    },
    {
      "cell_type": "code",
      "source": [
        "plt.plot(episodes, scores_avg)"
      ],
      "metadata": {
        "colab": {
          "base_uri": "https://localhost:8080/",
          "height": 447
        },
        "id": "qOqoP8D3NH-N",
        "outputId": "2ccb6ce0-abaf-4f90-c4f2-f38bcea85c78"
      },
      "execution_count": null,
      "outputs": [
        {
          "output_type": "execute_result",
          "data": {
            "text/plain": [
              "[<matplotlib.lines.Line2D at 0x78c79008bd90>]"
            ]
          },
          "metadata": {},
          "execution_count": 55
        },
        {
          "output_type": "display_data",
          "data": {
            "text/plain": [
              "<Figure size 640x480 with 1 Axes>"
            ],
            "image/png": "[encoded data removed]"
          },
          "metadata": {}
        }
      ]
    }
  ]
}